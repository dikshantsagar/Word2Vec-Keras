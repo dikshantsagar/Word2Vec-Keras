{
  "nbformat": 4,
  "nbformat_minor": 0,
  "metadata": {
    "colab": {
      "name": "Word2Vec-Keras.ipynb",
      "provenance": [],
      "collapsed_sections": [],
      "machine_shape": "hm"
    },
    "kernelspec": {
      "name": "python3",
      "display_name": "Python 3"
    },
    "accelerator": "TPU"
  },
  "cells": [
    {
      "cell_type": "code",
      "metadata": {
        "id": "0rPeuYuX_L0-",
        "colab_type": "code",
        "outputId": "1d231c53-011e-45a2-b381-528691615776",
        "colab": {
          "base_uri": "https://localhost:8080/",
          "height": 34
        }
      },
      "source": [
        "import nltk\n",
        "import numpy as np\n",
        "import tensorflow as tf\n",
        "from keras.preprocessing.text import Tokenizer\n",
        "import matplotlib.pyplot as plt\n",
        "from sklearn.manifold import TSNE\n",
        "from IPython import display"
      ],
      "execution_count": 0,
      "outputs": [
        {
          "output_type": "stream",
          "text": [
            "Using TensorFlow backend.\n"
          ],
          "name": "stderr"
        }
      ]
    },
    {
      "cell_type": "code",
      "metadata": {
        "id": "uV6CO_LxAArh",
        "colab_type": "code",
        "outputId": "2df7f5f5-fd27-4389-ddbe-884ab2b01406",
        "colab": {
          "base_uri": "https://localhost:8080/",
          "height": 68
        }
      },
      "source": [
        "nltk.download('abc')"
      ],
      "execution_count": 0,
      "outputs": [
        {
          "output_type": "stream",
          "text": [
            "[nltk_data] Downloading package abc to /root/nltk_data...\n",
            "[nltk_data]   Unzipping corpora/abc.zip.\n"
          ],
          "name": "stdout"
        },
        {
          "output_type": "execute_result",
          "data": {
            "text/plain": [
              "True"
            ]
          },
          "metadata": {
            "tags": []
          },
          "execution_count": 2
        }
      ]
    },
    {
      "cell_type": "code",
      "metadata": {
        "id": "x8WIKRDa_RxL",
        "colab_type": "code",
        "colab": {}
      },
      "source": [
        "abc=nltk.corpus.abc.words()"
      ],
      "execution_count": 0,
      "outputs": []
    },
    {
      "cell_type": "code",
      "metadata": {
        "id": "rEsPul9OI-bf",
        "colab_type": "code",
        "colab": {}
      },
      "source": [
        "tkn=Tokenizer()"
      ],
      "execution_count": 0,
      "outputs": []
    },
    {
      "cell_type": "code",
      "metadata": {
        "id": "sZHPoFjlJJhq",
        "colab_type": "code",
        "colab": {}
      },
      "source": [
        "tkn.fit_on_texts(abc)"
      ],
      "execution_count": 0,
      "outputs": []
    },
    {
      "cell_type": "code",
      "metadata": {
        "id": "4R-4BkVgJQUy",
        "colab_type": "code",
        "colab": {}
      },
      "source": [
        "seq= tkn.texts_to_sequences(abc)"
      ],
      "execution_count": 0,
      "outputs": []
    },
    {
      "cell_type": "code",
      "metadata": {
        "id": "C21F3TOrJuJK",
        "colab_type": "code",
        "colab": {}
      },
      "source": [
        "vlen=len(tkn.word_index)"
      ],
      "execution_count": 0,
      "outputs": []
    },
    {
      "cell_type": "code",
      "metadata": {
        "id": "2M3zu9qgKfND",
        "colab_type": "code",
        "outputId": "b07b7e44-14f6-4b3b-8e53-b4f4856bf8f8",
        "colab": {
          "base_uri": "https://localhost:8080/",
          "height": 34
        }
      },
      "source": [
        "vlen"
      ],
      "execution_count": 0,
      "outputs": [
        {
          "output_type": "execute_result",
          "data": {
            "text/plain": [
              "27663"
            ]
          },
          "metadata": {
            "tags": []
          },
          "execution_count": 8
        }
      ]
    },
    {
      "cell_type": "code",
      "metadata": {
        "id": "4-6kedKGPk89",
        "colab_type": "code",
        "colab": {}
      },
      "source": [
        "from keras.preprocessing.sequence import  skipgrams , make_sampling_table"
      ],
      "execution_count": 0,
      "outputs": []
    },
    {
      "cell_type": "code",
      "metadata": {
        "id": "KEzAy1fpPlLO",
        "colab_type": "code",
        "colab": {}
      },
      "source": [
        "sampling_table = make_sampling_table(vlen+1)\n",
        "couples, labels = skipgrams(seq, vlen, window_size=5, sampling_table=sampling_table)"
      ],
      "execution_count": 0,
      "outputs": []
    },
    {
      "cell_type": "code",
      "metadata": {
        "id": "ABpRR4rYa1Az",
        "colab_type": "code",
        "colab": {}
      },
      "source": [
        "xt1=[]\n",
        "xt2=[]\n",
        "for i in couples:\n",
        "  xt1.append(i[0])\n",
        "  xt2.append(i[1])"
      ],
      "execution_count": 0,
      "outputs": []
    },
    {
      "cell_type": "code",
      "metadata": {
        "id": "JatzutJBa_qw",
        "colab_type": "code",
        "colab": {}
      },
      "source": [
        "from pandas.core.common import flatten\n",
        "xt1=list(flatten(xt1))\n",
        "xt2=list(flatten(xt2))\n",
        "xt1=np.array(xt1)\n",
        "xt2=np.array(xt2)"
      ],
      "execution_count": 0,
      "outputs": []
    },
    {
      "cell_type": "code",
      "metadata": {
        "id": "1CwKHF5ReWpT",
        "colab_type": "code",
        "outputId": "33b3b853-4820-4a1b-8ab2-564f9d1c40fa",
        "colab": {
          "base_uri": "https://localhost:8080/",
          "height": 34
        }
      },
      "source": [
        "xt1[0] , xt2[0]"
      ],
      "execution_count": 0,
      "outputs": [
        {
          "output_type": "execute_result",
          "data": {
            "text/plain": [
              "(1278, 4905)"
            ]
          },
          "metadata": {
            "tags": []
          },
          "execution_count": 13
        }
      ]
    },
    {
      "cell_type": "code",
      "metadata": {
        "id": "a41i0u6SeEjd",
        "colab_type": "code",
        "colab": {}
      },
      "source": [
        "from keras.layers import Dense , Flatten , Input , Reshape , dot\n",
        "from keras.models import Sequential , Model\n",
        "from keras.layers.embeddings import Embedding\n",
        "from keras.callbacks import LambdaCallback"
      ],
      "execution_count": 0,
      "outputs": []
    },
    {
      "cell_type": "code",
      "metadata": {
        "id": "PNQBCH4URJKb",
        "colab_type": "code",
        "colab": {}
      },
      "source": [
        "wembed_size=128"
      ],
      "execution_count": 0,
      "outputs": []
    },
    {
      "cell_type": "code",
      "metadata": {
        "id": "I_93ENqRw6mZ",
        "colab_type": "code",
        "colab": {}
      },
      "source": [
        "input_target = Input((1,))\n",
        "input_context = Input((1,))\n",
        "embedding = Embedding(vlen+1, wembed_size, input_length=1, name='embedding')"
      ],
      "execution_count": 0,
      "outputs": []
    },
    {
      "cell_type": "code",
      "metadata": {
        "id": "4Htxq9ssLSaM",
        "colab_type": "code",
        "colab": {}
      },
      "source": [
        "target = embedding(input_target)\n",
        "target = Reshape((wembed_size, 1))(target)\n",
        "context = embedding(input_context)\n",
        "context = Reshape((wembed_size, 1))(context)"
      ],
      "execution_count": 0,
      "outputs": []
    },
    {
      "cell_type": "code",
      "metadata": {
        "id": "o3CCDbksOWCG",
        "colab_type": "code",
        "colab": {}
      },
      "source": [
        "dot_product = dot([target, context],axes=1)\n",
        "dot_product = Reshape((1,))(dot_product)\n",
        "# add the sigmoid output layer\n",
        "output = Dense(1, activation='sigmoid')(dot_product)"
      ],
      "execution_count": 0,
      "outputs": []
    },
    {
      "cell_type": "code",
      "metadata": {
        "id": "UZNHyPyWNrDf",
        "colab_type": "code",
        "outputId": "fbe74b9b-d5af-4760-cdda-1617025ece8d",
        "colab": {
          "base_uri": "https://localhost:8080/",
          "height": 71
        }
      },
      "source": [
        "model = Model(input=[input_target, input_context], output=output)\n",
        "model.compile(loss='binary_crossentropy', optimizer='rmsprop',metrics=['accuracy'])"
      ],
      "execution_count": 0,
      "outputs": [
        {
          "output_type": "stream",
          "text": [
            "/usr/local/lib/python3.6/dist-packages/ipykernel_launcher.py:1: UserWarning: Update your `Model` call to the Keras 2 API: `Model(inputs=[<tf.Tenso..., outputs=Tensor(\"de...)`\n",
            "  \"\"\"Entry point for launching an IPython kernel.\n"
          ],
          "name": "stderr"
        }
      ]
    },
    {
      "cell_type": "code",
      "metadata": {
        "id": "mnBYg8dENiqw",
        "colab_type": "code",
        "colab": {}
      },
      "source": [
        "plotcall = LambdaCallback(on_epoch_end=lambda epoch,logs: plot(model))"
      ],
      "execution_count": 0,
      "outputs": []
    },
    {
      "cell_type": "code",
      "metadata": {
        "id": "KYgFIMMqLy5h",
        "colab_type": "code",
        "colab": {}
      },
      "source": [
        "def plot(model):\n",
        "  display.clear_output(wait=True)\n",
        "  emb=model.layers[2].get_weights()[0]\n",
        "  words_embeddings = {w:emb[idx] for w, idx in tkn.word_index.items()}\n",
        "  vis=np.array(list(words_embeddings.values())[:100])\n",
        "  visem = TSNE(n_components=2).fit_transform(vis)\n",
        "  x,y=visem[:,0],visem[:,1]\n",
        "  n=list(words_embeddings.keys())[:100]\n",
        "  \n",
        "  fig, ax = plt.subplots(figsize=(20,15))\n",
        "  ax.scatter(x,y)\n",
        "  for i, txt in enumerate(n):\n",
        "    ax.annotate(txt, (x[i], y[i]))\n",
        "  plt.show()\n",
        "  \n",
        "\n"
      ],
      "execution_count": 0,
      "outputs": []
    },
    {
      "cell_type": "code",
      "metadata": {
        "id": "5hic4ESVN2oK",
        "colab_type": "code",
        "outputId": "a4e87053-c2cb-48b9-c65f-45395f723b88",
        "colab": {
          "base_uri": "https://localhost:8080/",
          "height": 863
        }
      },
      "source": [
        "history=model.fit([xt1,xt2],labels,batch_size=6400,epochs=20,callbacks=[plotcall])"
      ],
      "execution_count": 0,
      "outputs": [
        {
          "output_type": "display_data",
          "data": {
            "image/png": "[encoded data removed]",
            "text/plain": [
              "<Figure size 1440x1080 with 1 Axes>"
            ]
          },
          "metadata": {
            "tags": [],
            "needs_background": "light"
          }
        }
      ]
    },
    {
      "cell_type": "code",
      "metadata": {
        "id": "bb8Z2KCnane3",
        "colab_type": "code",
        "outputId": "425b9959-ae38-4fd6-e1f0-3f05bf6fb926",
        "colab": {
          "base_uri": "https://localhost:8080/",
          "height": 295
        }
      },
      "source": [
        "import matplotlib.pyplot as plt\n",
        "plt.title('Accuracy')\n",
        "plt.plot(history.history['accuracy'],label='Training')\n",
        "plt.xlabel('Epochs')\n",
        "plt.ylabel('Accuracy')\n",
        "plt.legend()\n",
        "plt.show()"
      ],
      "execution_count": 0,
      "outputs": [
        {
          "output_type": "display_data",
          "data": {
            "image/png": "[encoded data removed]",
            "text/plain": [
              "<Figure size 432x288 with 1 Axes>"
            ]
          },
          "metadata": {
            "tags": [],
            "needs_background": "light"
          }
        }
      ]
    },
    {
      "cell_type": "code",
      "metadata": {
        "id": "xw0QA35bPe6p",
        "colab_type": "code",
        "outputId": "0520e0e1-ebae-4e5d-d621-cf2785cf2b7e",
        "colab": {
          "base_uri": "https://localhost:8080/",
          "height": 295
        }
      },
      "source": [
        "plt.title('Loss')\n",
        "plt.plot(history.history['loss'],label='Training')\n",
        "plt.xlabel('Epochs')\n",
        "plt.ylabel('Loss')\n",
        "plt.legend()\n",
        "plt.show()"
      ],
      "execution_count": 0,
      "outputs": [
        {
          "output_type": "display_data",
          "data": {
            "image/png": "[encoded data removed]",
            "text/plain": [
              "<Figure size 432x288 with 1 Axes>"
            ]
          },
          "metadata": {
            "tags": [],
            "needs_background": "light"
          }
        }
      ]
    },
    {
      "cell_type": "code",
      "metadata": {
        "id": "AjkICRmeSZwf",
        "colab_type": "code",
        "colab": {}
      },
      "source": [
        "import pickle"
      ],
      "execution_count": 0,
      "outputs": []
    },
    {
      "cell_type": "code",
      "metadata": {
        "id": "uywcXZkeSjdj",
        "colab_type": "code",
        "colab": {}
      },
      "source": [
        "pickle.dump(model,open('model.obj','wb'))"
      ],
      "execution_count": 0,
      "outputs": []
    },
    {
      "cell_type": "code",
      "metadata": {
        "id": "psrFXcjBq50h",
        "colab_type": "code",
        "outputId": "4c1daaa7-2167-4596-b1d4-9a82fe638924",
        "colab": {
          "base_uri": "https://localhost:8080/",
          "height": 164
        }
      },
      "source": [
        "pickle.dump(words_embeddings,open('wembed.obj','wb'))"
      ],
      "execution_count": 0,
      "outputs": [
        {
          "output_type": "error",
          "ename": "NameError",
          "evalue": "ignored",
          "traceback": [
            "\u001b[0;31m---------------------------------------------------------------------------\u001b[0m",
            "\u001b[0;31mNameError\u001b[0m                                 Traceback (most recent call last)",
            "\u001b[0;32m<ipython-input-27-b70744852bae>\u001b[0m in \u001b[0;36m<module>\u001b[0;34m()\u001b[0m\n\u001b[0;32m----> 1\u001b[0;31m \u001b[0mpickle\u001b[0m\u001b[0;34m.\u001b[0m\u001b[0mdump\u001b[0m\u001b[0;34m(\u001b[0m\u001b[0mwords_embeddings\u001b[0m\u001b[0;34m,\u001b[0m\u001b[0mopen\u001b[0m\u001b[0;34m(\u001b[0m\u001b[0;34m'wembed.obj'\u001b[0m\u001b[0;34m,\u001b[0m\u001b[0;34m'wb'\u001b[0m\u001b[0;34m)\u001b[0m\u001b[0;34m)\u001b[0m\u001b[0;34m\u001b[0m\u001b[0;34m\u001b[0m\u001b[0m\n\u001b[0m",
            "\u001b[0;31mNameError\u001b[0m: name 'words_embeddings' is not defined"
          ]
        }
      ]
    },
    {
      "cell_type": "code",
      "metadata": {
        "id": "auZGwN_SUtAu",
        "colab_type": "code",
        "colab": {}
      },
      "source": [
        "words_embeddings['market'].shape"
      ],
      "execution_count": 0,
      "outputs": []
    },
    {
      "cell_type": "code",
      "metadata": {
        "id": "5S9TU_KAS9QT",
        "colab_type": "code",
        "colab": {}
      },
      "source": [
        "plt.show()"
      ],
      "execution_count": 0,
      "outputs": []
    },
    {
      "cell_type": "code",
      "metadata": {
        "id": "w_1StbvNS-Ts",
        "colab_type": "code",
        "colab": {}
      },
      "source": [
        ""
      ],
      "execution_count": 0,
      "outputs": []
    }
  ]
}